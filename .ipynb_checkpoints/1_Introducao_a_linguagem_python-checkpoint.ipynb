{
 "cells": [
  {
   "cell_type": "markdown",
   "metadata": {},
   "source": [
    "# Introdução à linguagem Python\n",
    "\n",
    "* Francisco Aparecido Rodrigues, francisco@icmc.usp.br.\n",
    "* Universidade de São Paulo, São Carlos, Brasil.\n",
    "\n",
    "- [Francisco Rodrigues](https://sites.icmc.usp.br/francisco)"
   ]
  },
  {
   "cell_type": "markdown",
   "metadata": {},
   "source": [
    "## Objetivos da Aula"
   ]
  },
  {
   "cell_type": "markdown",
   "metadata": {
    "ExecuteTime": {
     "end_time": "2021-07-02T13:37:08.705523Z",
     "start_time": "2021-07-02T13:37:08.682537Z"
    }
   },
   "source": [
    "* Nesta aula, vamos conhecer a linguagem de programação Python. Não precisamos entrar nos detalhes da linguagem, mas aprender \n",
    "as principais funcionalidades que são necessárias para processamento de dados.\n",
    "\n",
    "* Para inicarmos a programação em Python, precisamos fazer a sua instalação. Os detalhe sobre a instalação dependem do sistema \n",
    "operacional que está sendo usado. Na página oficial sobre a linguagem Python há um tutorial sobre a instalação: \n",
    "[wiki-python](https://wiki.python.org/moin/BeginnersGuide/Download)\n",
    "\n",
    "* A página oficial da linguagem também oferece muita informação sobre comandos e conceitos e também diversos tutoriais: https://www.python.org/about/gettingstarted\n",
    "\n",
    "* Uma boa alternativa para começar a pogramar em Python é considerar plataformas como Anaconda: https://www.anaconda.com/download/#macos\n",
    "\n",
    "* Nessa plataforma, temos o Jupyter Notebook, que é o editor usado para preparar esse material. Para executar os comandos abaixo, vocês podem usar esse editor ou o Spyder, copiando e colando os comandos no editor.\n"
   ]
  },
  {
   "cell_type": "markdown",
   "metadata": {},
   "source": [
    "## Reiniciando variáveis\n",
    "\n",
    "Um aspecto importante da programação em Python é ter controle sobre as variáveis inicializadas. Por isso, é sempre importante reiniciar todas as variáveis sempre que um program em Python for implementado. Para \"limpar\" as variáveis, usamos os comandos:"
   ]
  },
  {
   "cell_type": "markdown",
   "metadata": {},
   "source": [
    "### Limpando as variaveis"
   ]
  },
  {
   "cell_type": "code",
   "execution_count": 2,
   "metadata": {
    "ExecuteTime": {
     "end_time": "2021-07-02T13:39:48.268119Z",
     "start_time": "2021-07-02T13:39:48.166387Z"
    }
   },
   "outputs": [],
   "source": [
    "from IPython import get_ipython\n",
    "get_ipython().magic('reset -sf') "
   ]
  },
  {
   "cell_type": "markdown",
   "metadata": {},
   "source": [
    "Note que se chamarmos esses comandos após a inicalização, haverá uma mensagem de erro:"
   ]
  },
  {
   "cell_type": "code",
   "execution_count": 6,
   "metadata": {
    "ExecuteTime": {
     "end_time": "2021-07-02T13:48:58.649662Z",
     "start_time": "2021-07-02T13:48:58.637670Z"
    }
   },
   "outputs": [
    {
     "name": "stdout",
     "output_type": "stream",
     "text": [
      "x =  [1, 2, 3]\n"
     ]
    }
   ],
   "source": [
    "x = [1,2,3]\n",
    "print(\"x = \", x)"
   ]
  },
  {
   "cell_type": "code",
   "execution_count": 7,
   "metadata": {
    "ExecuteTime": {
     "end_time": "2021-07-02T13:48:59.619375Z",
     "start_time": "2021-07-02T13:48:59.548419Z"
    }
   },
   "outputs": [],
   "source": [
    "# Limpando as variaveis\n",
    "from IPython import get_ipython\n",
    "get_ipython().magic('reset -sf')"
   ]
  },
  {
   "cell_type": "code",
   "execution_count": 8,
   "metadata": {
    "ExecuteTime": {
     "end_time": "2021-07-02T13:49:00.834077Z",
     "start_time": "2021-07-02T13:49:00.822086Z"
    }
   },
   "outputs": [
    {
     "ename": "NameError",
     "evalue": "name 'x' is not defined",
     "output_type": "error",
     "traceback": [
      "\u001b[1;31m---------------------------------------------------------------------------\u001b[0m",
      "\u001b[1;31mNameError\u001b[0m                                 Traceback (most recent call last)",
      "\u001b[1;32m<ipython-input-8-4d378beff814>\u001b[0m in \u001b[0;36m<module>\u001b[1;34m\u001b[0m\n\u001b[1;32m----> 1\u001b[1;33m \u001b[0mprint\u001b[0m\u001b[1;33m(\u001b[0m\u001b[1;34m\"x = \"\u001b[0m\u001b[1;33m,\u001b[0m \u001b[0mx\u001b[0m\u001b[1;33m)\u001b[0m \u001b[1;31m# Note que um erro será mostrado, pois x foi reiniciada.\u001b[0m\u001b[1;33m\u001b[0m\u001b[1;33m\u001b[0m\u001b[0m\n\u001b[0m\u001b[0;32m      2\u001b[0m \u001b[0mx\u001b[0m \u001b[1;33m=\u001b[0m  \u001b[1;33m[\u001b[0m\u001b[1;36m1\u001b[0m\u001b[1;33m,\u001b[0m \u001b[1;36m2\u001b[0m\u001b[1;33m,\u001b[0m \u001b[1;36m3\u001b[0m\u001b[1;33m]\u001b[0m\u001b[1;33m\u001b[0m\u001b[1;33m\u001b[0m\u001b[0m\n",
      "\u001b[1;31mNameError\u001b[0m: name 'x' is not defined"
     ]
    }
   ],
   "source": [
    "print(\"x = \", x) # Note que um erro será mostrado, pois x foi reiniciada.\n",
    "x =  [1, 2, 3]"
   ]
  },
  {
   "cell_type": "markdown",
   "metadata": {},
   "source": [
    "# Tipos de dados\n",
    "\n",
    "## Inteiros e ponto flutuante\n",
    "\n",
    "A linguagem Python suporta diversos tipos de dados, como: \n",
    "\n",
    "- int\n",
    "- float \n",
    "- strings. \n",
    "\n",
    "## Para varíaveis do tipo inteiro"
   ]
  },
  {
   "cell_type": "code",
   "execution_count": 9,
   "metadata": {
    "ExecuteTime": {
     "end_time": "2021-07-02T13:54:14.594211Z",
     "start_time": "2021-07-02T13:54:14.583219Z"
    }
   },
   "outputs": [
    {
     "name": "stdout",
     "output_type": "stream",
     "text": [
      "2\n"
     ]
    }
   ],
   "source": [
    "a = 2\n",
    "print(a)"
   ]
  },
  {
   "cell_type": "markdown",
   "metadata": {},
   "source": [
    "## Float"
   ]
  },
  {
   "cell_type": "code",
   "execution_count": 10,
   "metadata": {
    "ExecuteTime": {
     "end_time": "2021-07-02T13:54:50.729022Z",
     "start_time": "2021-07-02T13:54:50.726026Z"
    }
   },
   "outputs": [
    {
     "name": "stdout",
     "output_type": "stream",
     "text": [
      "2.5\n"
     ]
    }
   ],
   "source": [
    "a = 2.5\n",
    "print(a)"
   ]
  },
  {
   "cell_type": "markdown",
   "metadata": {},
   "source": [
    "## Convert type float to int\n",
    "\n",
    "Também podemos converter de float para inteiro:"
   ]
  },
  {
   "cell_type": "code",
   "execution_count": 11,
   "metadata": {
    "ExecuteTime": {
     "end_time": "2021-07-02T13:55:26.749460Z",
     "start_time": "2021-07-02T13:55:26.735468Z"
    }
   },
   "outputs": [
    {
     "name": "stdout",
     "output_type": "stream",
     "text": [
      "1\n"
     ]
    }
   ],
   "source": [
    "a = int(3/2)\n",
    "print(a)"
   ]
  },
  {
   "cell_type": "markdown",
   "metadata": {},
   "source": [
    "Números complexos:"
   ]
  },
  {
   "cell_type": "code",
   "execution_count": 12,
   "metadata": {
    "ExecuteTime": {
     "end_time": "2021-07-02T13:56:08.137734Z",
     "start_time": "2021-07-02T13:56:08.132737Z"
    }
   },
   "outputs": [
    {
     "name": "stdout",
     "output_type": "stream",
     "text": [
      "(1.5+0.5j)\n"
     ]
    }
   ],
   "source": [
    "a=1.5+0.5j\n",
    "print(a)"
   ]
  },
  {
   "cell_type": "code",
   "execution_count": 14,
   "metadata": {
    "ExecuteTime": {
     "end_time": "2021-07-02T13:56:27.248278Z",
     "start_time": "2021-07-02T13:56:27.234288Z"
    },
    "scrolled": true
   },
   "outputs": [
    {
     "name": "stdout",
     "output_type": "stream",
     "text": [
      "Parte real: 1.5 \n",
      "Parte imaginária: 0.5\n"
     ]
    }
   ],
   "source": [
    "print('Parte real:', a.real, '\\nParte imaginária:', a.imag)"
   ]
  },
  {
   "cell_type": "markdown",
   "metadata": {},
   "source": [
    "## Tipos booleanos"
   ]
  },
  {
   "cell_type": "code",
   "execution_count": 17,
   "metadata": {
    "ExecuteTime": {
     "end_time": "2021-07-02T14:01:07.967307Z",
     "start_time": "2021-07-02T14:01:07.960312Z"
    }
   },
   "outputs": [
    {
     "name": "stdout",
     "output_type": "stream",
     "text": [
      "a =  False\n",
      "b =  True\n",
      "c =  False\n"
     ]
    }
   ],
   "source": [
    "a = 3 > 4\n",
    "print('a = ', a)\n",
    "b = 3 < 4\n",
    "print('b = ', b)\n",
    "c = 3 == 4\n",
    "print('c = ', c)"
   ]
  },
  {
   "cell_type": "markdown",
   "metadata": {},
   "source": [
    "## Tipo Variável\n",
    "\n",
    "Para determinar o tipo de uma variável:"
   ]
  },
  {
   "cell_type": "code",
   "execution_count": 19,
   "metadata": {
    "ExecuteTime": {
     "end_time": "2021-07-02T14:01:50.144137Z",
     "start_time": "2021-07-02T14:01:50.137142Z"
    }
   },
   "outputs": [
    {
     "name": "stdout",
     "output_type": "stream",
     "text": [
      "Tipo de a: <class 'float'>\n",
      "Tipo de b: <class 'bool'>\n"
     ]
    }
   ],
   "source": [
    "a = 3.5\n",
    "print('Tipo de a:', type(a))\n",
    "b = 3 > 4\n",
    "print('Tipo de b:', type(b))"
   ]
  },
  {
   "cell_type": "markdown",
   "metadata": {},
   "source": [
    "## Somar de variáveis\n",
    "\n",
    "Para somar duas variáveis escalares:"
   ]
  },
  {
   "cell_type": "code",
   "execution_count": 25,
   "metadata": {
    "ExecuteTime": {
     "end_time": "2021-07-02T14:04:59.174161Z",
     "start_time": "2021-07-02T14:04:59.159170Z"
    }
   },
   "outputs": [
    {
     "name": "stdout",
     "output_type": "stream",
     "text": [
      "z =  3\n"
     ]
    }
   ],
   "source": [
    "x = 1\n",
    "y = 2\n",
    "z = x + y\n",
    "print(\"z = \", z)"
   ]
  },
  {
   "cell_type": "markdown",
   "metadata": {},
   "source": [
    "## Multiplicação e potenciação"
   ]
  },
  {
   "cell_type": "code",
   "execution_count": 26,
   "metadata": {
    "ExecuteTime": {
     "end_time": "2021-07-02T14:05:04.854549Z",
     "start_time": "2021-07-02T14:05:04.839559Z"
    }
   },
   "outputs": [
    {
     "name": "stdout",
     "output_type": "stream",
     "text": [
      "a*b =  4.6\n",
      "a^3 =  8\n"
     ]
    }
   ],
   "source": [
    "a = 2\n",
    "b = 2.3\n",
    "print(\"a*b = \", a*b)\n",
    "print('a^3 = ', a**3)"
   ]
  },
  {
   "cell_type": "markdown",
   "metadata": {},
   "source": [
    "## Resto de uma divisão\n",
    "\n",
    "Para determinarmos o resto de uma divisão:"
   ]
  },
  {
   "cell_type": "code",
   "execution_count": 27,
   "metadata": {
    "ExecuteTime": {
     "end_time": "2021-07-02T14:05:07.954581Z",
     "start_time": "2021-07-02T14:05:07.935594Z"
    }
   },
   "outputs": [
    {
     "name": "stdout",
     "output_type": "stream",
     "text": [
      "1\n"
     ]
    }
   ],
   "source": [
    "a = 5%2\n",
    "print(a);"
   ]
  },
  {
   "cell_type": "markdown",
   "metadata": {},
   "source": [
    "# Listas\n",
    "\n",
    "Uma lista é um conjunto de dados onde os elementos não precisam ser do mesmo tipo:\n"
   ]
  },
  {
   "cell_type": "code",
   "execution_count": 28,
   "metadata": {
    "ExecuteTime": {
     "end_time": "2021-07-02T14:05:13.295835Z",
     "start_time": "2021-07-02T14:05:13.276846Z"
    }
   },
   "outputs": [
    {
     "name": "stdout",
     "output_type": "stream",
     "text": [
      "[1, 2, 'a', 'palavra', (1.5+0.5j)]\n"
     ]
    }
   ],
   "source": [
    "L = [1, 2, 'a', 'palavra', 1.5+0.5j]\n",
    "print(L);"
   ]
  },
  {
   "cell_type": "markdown",
   "metadata": {
    "ExecuteTime": {
     "end_time": "2021-07-02T14:21:17.568841Z",
     "start_time": "2021-07-02T14:21:17.563843Z"
    }
   },
   "source": [
    "## Acessar Elemento da lista"
   ]
  },
  {
   "cell_type": "code",
   "execution_count": 52,
   "metadata": {
    "ExecuteTime": {
     "end_time": "2021-07-02T14:30:09.015701Z",
     "start_time": "2021-07-02T14:30:09.002709Z"
    }
   },
   "outputs": [
    {
     "name": "stdout",
     "output_type": "stream",
     "text": [
      "1º elemento da lista =  1 \n",
      "3º elemento da lista =  a\n"
     ]
    }
   ],
   "source": [
    "L = [1, 2, 'a', 'palavra', 2.5, 1.5+0.5j]\n",
    "print('1º elemento da lista = ',L[0],\n",
    "      '\\n3º elemento da lista = ', L[2])"
   ]
  },
  {
   "cell_type": "markdown",
   "metadata": {},
   "source": [
    "Índices negativos são usados para acessar do final para o começo:"
   ]
  },
  {
   "cell_type": "code",
   "execution_count": 30,
   "metadata": {
    "ExecuteTime": {
     "end_time": "2021-07-02T14:12:46.438367Z",
     "start_time": "2021-07-02T14:12:46.418379Z"
    }
   },
   "outputs": [
    {
     "name": "stdout",
     "output_type": "stream",
     "text": [
      "(1.5+0.5j) 2.5 palavra\n"
     ]
    }
   ],
   "source": [
    "L = [1, 2, 'a', 'palavra', 2.5, 1.5+0.5j]\n",
    "print(L[-1], L[-2], L[-3])"
   ]
  },
  {
   "cell_type": "markdown",
   "metadata": {},
   "source": [
    "## Acessar Vários Elementos de Uma Vez"
   ]
  },
  {
   "cell_type": "code",
   "execution_count": 31,
   "metadata": {
    "ExecuteTime": {
     "end_time": "2021-07-02T14:13:05.680058Z",
     "start_time": "2021-07-02T14:13:05.674062Z"
    }
   },
   "outputs": [],
   "source": [
    "L = [1, 2, 'a', 'palavra', 1.5+0.5j]"
   ]
  },
  {
   "cell_type": "code",
   "execution_count": 33,
   "metadata": {
    "ExecuteTime": {
     "end_time": "2021-07-02T14:13:27.857970Z",
     "start_time": "2021-07-02T14:13:27.838983Z"
    }
   },
   "outputs": [
    {
     "name": "stdout",
     "output_type": "stream",
     "text": [
      "[1, 2, 'a', 'palavra']\n"
     ]
    }
   ],
   "source": [
    "print(L[0:4])"
   ]
  },
  {
   "cell_type": "markdown",
   "metadata": {},
   "source": [
    "## Adicionar Elemento a lista"
   ]
  },
  {
   "cell_type": "code",
   "execution_count": 34,
   "metadata": {
    "ExecuteTime": {
     "end_time": "2021-07-02T14:14:39.083565Z",
     "start_time": "2021-07-02T14:14:39.078569Z"
    }
   },
   "outputs": [
    {
     "name": "stdout",
     "output_type": "stream",
     "text": [
      "[1, 2, 'a', 'palavra', 2.5, (1.5+0.5j), 'Novo elemento']\n"
     ]
    }
   ],
   "source": [
    "L = [1, 2, 'a', 'palavra', 2.5, 1.5+0.5j]\n",
    "L.append('Novo elemento')\n",
    "print(L)"
   ]
  },
  {
   "cell_type": "markdown",
   "metadata": {},
   "source": [
    "## Para remover o último elemento"
   ]
  },
  {
   "cell_type": "code",
   "execution_count": 35,
   "metadata": {
    "ExecuteTime": {
     "end_time": "2021-07-02T14:19:07.399971Z",
     "start_time": "2021-07-02T14:19:07.394975Z"
    }
   },
   "outputs": [
    {
     "name": "stdout",
     "output_type": "stream",
     "text": [
      "[1, 2, 'a', 'palavra', 2.5]\n"
     ]
    }
   ],
   "source": [
    "L = [1, 2, 'a', 'palavra', 2.5, 1.5+0.5j]\n",
    "L.pop()\n",
    "print(L)"
   ]
  },
  {
   "cell_type": "markdown",
   "metadata": {},
   "source": [
    "## Para inverter a ordem dos elementos"
   ]
  },
  {
   "cell_type": "code",
   "execution_count": 37,
   "metadata": {
    "ExecuteTime": {
     "end_time": "2021-07-02T14:19:43.450967Z",
     "start_time": "2021-07-02T14:19:43.439975Z"
    }
   },
   "outputs": [
    {
     "name": "stdout",
     "output_type": "stream",
     "text": [
      "[(1.5+0.5j), 2.5, 'palavra', 'a', 2, 1]\n"
     ]
    }
   ],
   "source": [
    "L = [1, 2, 'a', 'palavra', 2.5, 1.5+0.5j]\n",
    "L = L[::-1]\n",
    "print(L)"
   ]
  },
  {
   "cell_type": "markdown",
   "metadata": {},
   "source": [
    "## Concatenar uma lista"
   ]
  },
  {
   "cell_type": "code",
   "execution_count": 40,
   "metadata": {
    "ExecuteTime": {
     "end_time": "2021-07-02T14:24:37.379406Z",
     "start_time": "2021-07-02T14:24:37.362415Z"
    }
   },
   "outputs": [
    {
     "name": "stdout",
     "output_type": "stream",
     "text": [
      "[1, 2, 'a', 'palavra', 2.5, (1.5+0.5j), 0, 9, 3, 'mundo']\n"
     ]
    }
   ],
   "source": [
    "L = [1, 2, 'a', 'palavra', 2.5, 1.5+0.5j]\n",
    "k = [0, 9, 3, 'mundo']\n",
    "m = L + k\n",
    "print(m)"
   ]
  },
  {
   "cell_type": "markdown",
   "metadata": {},
   "source": [
    "## Para repetir os elementos uma lista"
   ]
  },
  {
   "cell_type": "code",
   "execution_count": 41,
   "metadata": {
    "ExecuteTime": {
     "end_time": "2021-07-02T14:27:58.258914Z",
     "start_time": "2021-07-02T14:27:58.246920Z"
    }
   },
   "outputs": [
    {
     "name": "stdout",
     "output_type": "stream",
     "text": [
      "[1, 2, 'a', 'palavra', 2.5, (1.5+0.5j), 1, 2, 'a', 'palavra', 2.5, (1.5+0.5j)]\n"
     ]
    }
   ],
   "source": [
    "L = [1, 2, 'a', 'palavra', 2.5, 1.5+0.5j]\n",
    "k = 2*L\n",
    "print(k)"
   ]
  },
  {
   "cell_type": "markdown",
   "metadata": {},
   "source": [
    "## Ordenando uma lista"
   ]
  },
  {
   "cell_type": "code",
   "execution_count": 42,
   "metadata": {
    "ExecuteTime": {
     "end_time": "2021-07-02T14:27:58.258914Z",
     "start_time": "2021-07-02T14:27:58.246920Z"
    }
   },
   "outputs": [
    {
     "name": "stdout",
     "output_type": "stream",
     "text": [
      "[1, 3, 4, 5, 6, 8, 9]\n"
     ]
    }
   ],
   "source": [
    "L = [4,3,1,5,6,8,9]\n",
    "L.sort()\n",
    "print(L)"
   ]
  },
  {
   "cell_type": "markdown",
   "metadata": {},
   "source": [
    "Note que a soma dos elementos de listas não é feita de forma direta:"
   ]
  },
  {
   "cell_type": "code",
   "execution_count": 49,
   "metadata": {
    "ExecuteTime": {
     "end_time": "2021-07-02T14:27:58.258914Z",
     "start_time": "2021-07-02T14:27:58.246920Z"
    }
   },
   "outputs": [
    {
     "name": "stdout",
     "output_type": "stream",
     "text": [
      "z =  [1, 2, 3, 4, 5, 6]\n"
     ]
    }
   ],
   "source": [
    "x = [1,2,3]\n",
    "y = [4,5,6]\n",
    "z = x + y\n",
    "print('z = ', z)"
   ]
  },
  {
   "cell_type": "markdown",
   "metadata": {},
   "source": [
    "## Using Numpy with List\n",
    "\n",
    "Para somar os elementos de uma lista, podemos usar a biblioteca numpy:\n",
    "\n",
    "### Import numpy"
   ]
  },
  {
   "cell_type": "code",
   "execution_count": 43,
   "metadata": {
    "ExecuteTime": {
     "end_time": "2021-07-02T14:27:58.258914Z",
     "start_time": "2021-07-02T14:27:58.246920Z"
    }
   },
   "outputs": [],
   "source": [
    "import numpy as np"
   ]
  },
  {
   "cell_type": "code",
   "execution_count": 47,
   "metadata": {
    "ExecuteTime": {
     "end_time": "2021-07-02T14:27:58.258914Z",
     "start_time": "2021-07-02T14:27:58.246920Z"
    }
   },
   "outputs": [],
   "source": [
    "x = [1,2,3] ; y = [4,5,6]"
   ]
  },
  {
   "cell_type": "code",
   "execution_count": 48,
   "metadata": {
    "ExecuteTime": {
     "end_time": "2021-07-02T14:27:36.486731Z",
     "start_time": "2021-07-02T14:27:36.474740Z"
    }
   },
   "outputs": [],
   "source": [
    "z = np.add(x, y)"
   ]
  },
  {
   "cell_type": "code",
   "execution_count": 46,
   "metadata": {
    "ExecuteTime": {
     "end_time": "2021-07-02T14:27:27.878398Z",
     "start_time": "2021-07-02T14:27:27.868404Z"
    }
   },
   "outputs": [
    {
     "name": "stdout",
     "output_type": "stream",
     "text": [
      "z =  [5 7 9]\n"
     ]
    }
   ],
   "source": [
    "print('z = ', z)"
   ]
  },
  {
   "cell_type": "markdown",
   "metadata": {},
   "source": [
    "Outra maneira de realizar essa soma é converter as listas para vetores."
   ]
  },
  {
   "cell_type": "code",
   "execution_count": 53,
   "metadata": {
    "ExecuteTime": {
     "end_time": "2021-07-02T17:36:55.829300Z",
     "start_time": "2021-07-02T17:36:55.813310Z"
    }
   },
   "outputs": [
    {
     "name": "stdout",
     "output_type": "stream",
     "text": [
      "z =  [5 7 9]\n"
     ]
    }
   ],
   "source": [
    "x = [1,2,3]\n",
    "x = np.array(x)\n",
    "y = [4,5,6]\n",
    "y = np.array(y)\n",
    "z = x + y\n",
    "print('z = ', z)"
   ]
  },
  {
   "cell_type": "markdown",
   "metadata": {},
   "source": [
    "#  Strings\n",
    "\n",
    "Para definirmos uma string"
   ]
  },
  {
   "cell_type": "code",
   "execution_count": 55,
   "metadata": {
    "ExecuteTime": {
     "end_time": "2021-07-02T17:44:50.081393Z",
     "start_time": "2021-07-02T17:44:50.063405Z"
    }
   },
   "outputs": [],
   "source": [
    "s = 'Hello world'"
   ]
  },
  {
   "cell_type": "markdown",
   "metadata": {},
   "source": [
    "Uma string é intepretada como uma lista de caracteres:"
   ]
  },
  {
   "cell_type": "code",
   "execution_count": 56,
   "metadata": {
    "ExecuteTime": {
     "end_time": "2021-07-02T17:44:50.081393Z",
     "start_time": "2021-07-02T17:44:50.063405Z"
    }
   },
   "outputs": [
    {
     "name": "stdout",
     "output_type": "stream",
     "text": [
      "Hello\n"
     ]
    }
   ],
   "source": [
    "print(s[0:5])"
   ]
  },
  {
   "cell_type": "markdown",
   "metadata": {},
   "source": [
    "## Operações com Strings\n",
    "\n",
    "Podemos realizar operações em strings"
   ]
  },
  {
   "cell_type": "code",
   "execution_count": 58,
   "metadata": {
    "ExecuteTime": {
     "end_time": "2021-07-02T17:44:50.081393Z",
     "start_time": "2021-07-02T17:44:50.063405Z"
    }
   },
   "outputs": [
    {
     "name": "stdout",
     "output_type": "stream",
     "text": [
      "HelloWorld\n"
     ]
    }
   ],
   "source": [
    "s = 'Hello'\n",
    "t = 'World'\n",
    "v = s + t\n",
    "print(v)"
   ]
  },
  {
   "cell_type": "code",
   "execution_count": 59,
   "metadata": {
    "ExecuteTime": {
     "end_time": "2021-07-02T17:40:03.489032Z",
     "start_time": "2021-07-02T17:40:03.474040Z"
    }
   },
   "outputs": [
    {
     "name": "stdout",
     "output_type": "stream",
     "text": [
      "Hello\tWorld\n"
     ]
    }
   ],
   "source": [
    "print(s + '\\t' + t)"
   ]
  },
  {
   "cell_type": "markdown",
   "metadata": {},
   "source": [
    "## Repetição"
   ]
  },
  {
   "cell_type": "code",
   "execution_count": 60,
   "metadata": {
    "ExecuteTime": {
     "end_time": "2021-07-02T17:40:06.267739Z",
     "start_time": "2021-07-02T17:40:06.248750Z"
    }
   },
   "outputs": [
    {
     "name": "stdout",
     "output_type": "stream",
     "text": [
      "AAAA\n"
     ]
    }
   ],
   "source": [
    "s = 'A'\n",
    "t = 4*s\n",
    "print(t)"
   ]
  },
  {
   "cell_type": "markdown",
   "metadata": {},
   "source": [
    "## 'In'\n",
    "\n",
    "\n",
    "Podemos procurar uma palavra dentro de uma frase com operador 'in'."
   ]
  },
  {
   "cell_type": "code",
   "execution_count": 61,
   "metadata": {
    "ExecuteTime": {
     "end_time": "2021-07-02T17:41:38.732413Z",
     "start_time": "2021-07-02T17:41:38.721417Z"
    }
   },
   "outputs": [
    {
     "data": {
      "text/plain": [
       "False"
      ]
     },
     "execution_count": 61,
     "metadata": {},
     "output_type": "execute_result"
    }
   ],
   "source": [
    "s = 'Mundo'\n",
    "s in 'Mundo, mundo vasto mundo.'\n",
    "s in 'A Terra é um planeta azul.'"
   ]
  },
  {
   "cell_type": "markdown",
   "metadata": {},
   "source": [
    "## Tamanho da String \n",
    "\n",
    "Para sabermos o tamanho de uma string"
   ]
  },
  {
   "cell_type": "code",
   "execution_count": 65,
   "metadata": {
    "ExecuteTime": {
     "end_time": "2021-07-02T17:42:54.112482Z",
     "start_time": "2021-07-02T17:42:54.096493Z"
    }
   },
   "outputs": [
    {
     "name": "stdout",
     "output_type": "stream",
     "text": [
      "5\n"
     ]
    }
   ],
   "source": [
    "print(len('Hello'))"
   ]
  },
  {
   "cell_type": "markdown",
   "metadata": {},
   "source": [
    "## Função str\n",
    "Podemos ainda converter números para string com a função 'str'"
   ]
  },
  {
   "cell_type": "code",
   "execution_count": 67,
   "metadata": {
    "ExecuteTime": {
     "end_time": "2021-07-02T17:44:06.633554Z",
     "start_time": "2021-07-02T17:44:06.619563Z"
    }
   },
   "outputs": [],
   "source": [
    "x = 2"
   ]
  },
  {
   "cell_type": "code",
   "execution_count": 69,
   "metadata": {
    "ExecuteTime": {
     "end_time": "2021-07-02T17:44:50.081393Z",
     "start_time": "2021-07-02T17:44:50.063405Z"
    }
   },
   "outputs": [
    {
     "name": "stdout",
     "output_type": "stream",
     "text": [
      "O número 2 é par\n"
     ]
    }
   ],
   "source": [
    "print('O número ' + str(x) + ' é par')"
   ]
  },
  {
   "cell_type": "code",
   "execution_count": 70,
   "metadata": {
    "ExecuteTime": {
     "end_time": "2021-07-02T17:44:50.081393Z",
     "start_time": "2021-07-02T17:44:50.063405Z"
    }
   },
   "outputs": [
    {
     "name": "stdout",
     "output_type": "stream",
     "text": [
      "Pi é igual a 3.141592653589793\n"
     ]
    }
   ],
   "source": [
    "print('Pi é igual a ' + str(np.pi))"
   ]
  },
  {
   "cell_type": "markdown",
   "metadata": {},
   "source": [
    "## Elementos da String\n",
    "\n",
    "Podemos acessar apenas alguns dos elementos da string:"
   ]
  },
  {
   "cell_type": "code",
   "execution_count": 71,
   "metadata": {
    "ExecuteTime": {
     "end_time": "2021-07-02T17:45:49.820310Z",
     "start_time": "2021-07-02T17:45:49.815313Z"
    }
   },
   "outputs": [
    {
     "name": "stdout",
     "output_type": "stream",
     "text": [
      "ACEG\n"
     ]
    }
   ],
   "source": [
    "s = 'ABCDEFGHIJK'\n",
    "print(s[0:8:2]) # comecando na posicao 0 e selecionando de 2 em 2."
   ]
  },
  {
   "cell_type": "markdown",
   "metadata": {},
   "source": [
    "Mostrando o valor de uma string (notem o caracter `f` dentro da função print):"
   ]
  },
  {
   "cell_type": "code",
   "execution_count": 72,
   "metadata": {
    "ExecuteTime": {
     "end_time": "2021-07-02T17:50:15.361443Z",
     "start_time": "2021-07-02T17:50:15.350450Z"
    }
   },
   "outputs": [
    {
     "name": "stdout",
     "output_type": "stream",
     "text": [
      "The product of 20 and 25 is 500\n"
     ]
    }
   ],
   "source": [
    "n = 20\n",
    "m = 25\n",
    "prod = n * m\n",
    "print(f'The product of {n} and {m} is {prod}')"
   ]
  },
  {
   "cell_type": "markdown",
   "metadata": {},
   "source": [
    "## Replace\n",
    "\n",
    "Podemos substituir um valor em uma string usando o comando replace:"
   ]
  },
  {
   "cell_type": "code",
   "execution_count": 73,
   "metadata": {
    "ExecuteTime": {
     "end_time": "2021-07-02T17:50:15.361443Z",
     "start_time": "2021-07-02T17:50:15.350450Z"
    }
   },
   "outputs": [
    {
     "name": "stdout",
     "output_type": "stream",
     "text": [
      "Hello Earth\n"
     ]
    }
   ],
   "source": [
    "s = 'Hello world'\n",
    "x = 'Earth'\n",
    "s = s.replace('world', x)\n",
    "print(s)"
   ]
  },
  {
   "cell_type": "markdown",
   "metadata": {},
   "source": [
    "## Letras minúsculas ou maíusculas"
   ]
  },
  {
   "cell_type": "code",
   "execution_count": 78,
   "metadata": {
    "ExecuteTime": {
     "end_time": "2021-07-02T17:50:15.361443Z",
     "start_time": "2021-07-02T17:50:15.350450Z"
    }
   },
   "outputs": [
    {
     "data": {
      "text/plain": [
       "'hello world'"
      ]
     },
     "execution_count": 78,
     "metadata": {},
     "output_type": "execute_result"
    }
   ],
   "source": [
    "'HELLo WORLD'.lower()"
   ]
  },
  {
   "cell_type": "code",
   "execution_count": 79,
   "metadata": {
    "ExecuteTime": {
     "end_time": "2021-07-02T17:50:28.114651Z",
     "start_time": "2021-07-02T17:50:28.109653Z"
    }
   },
   "outputs": [
    {
     "data": {
      "text/plain": [
       "'HELLO WORLD'"
      ]
     },
     "execution_count": 79,
     "metadata": {},
     "output_type": "execute_result"
    }
   ],
   "source": [
    "s = 'hello world'\n",
    "s.upper()"
   ]
  },
  {
   "cell_type": "markdown",
   "metadata": {},
   "source": [
    "## Outros comandos úteis"
   ]
  },
  {
   "cell_type": "code",
   "execution_count": 75,
   "metadata": {
    "ExecuteTime": {
     "end_time": "2021-07-02T17:50:15.361443Z",
     "start_time": "2021-07-02T17:50:15.350450Z"
    }
   },
   "outputs": [
    {
     "data": {
      "text/plain": [
       "3"
      ]
     },
     "execution_count": 75,
     "metadata": {},
     "output_type": "execute_result"
    }
   ],
   "source": [
    "'este eh um teste'.count('te')"
   ]
  },
  {
   "cell_type": "code",
   "execution_count": 80,
   "metadata": {
    "ExecuteTime": {
     "end_time": "2021-07-02T17:50:48.019456Z",
     "start_time": "2021-07-02T17:50:48.004466Z"
    }
   },
   "outputs": [
    {
     "data": {
      "text/plain": [
       "True"
      ]
     },
     "execution_count": 80,
     "metadata": {},
     "output_type": "execute_result"
    }
   ],
   "source": [
    "'comando'.endswith('do')"
   ]
  },
  {
   "cell_type": "code",
   "execution_count": 81,
   "metadata": {
    "ExecuteTime": {
     "end_time": "2021-07-02T17:53:18.965914Z",
     "start_time": "2021-07-02T17:53:18.945918Z"
    }
   },
   "outputs": [
    {
     "data": {
      "text/plain": [
       "8"
      ]
     },
     "execution_count": 81,
     "metadata": {},
     "output_type": "execute_result"
    }
   ],
   "source": [
    "'esta eh uma sentenca'.find('uma')"
   ]
  },
  {
   "cell_type": "code",
   "execution_count": 82,
   "metadata": {
    "ExecuteTime": {
     "end_time": "2021-07-02T17:53:20.373479Z",
     "start_time": "2021-07-02T17:53:20.364484Z"
    }
   },
   "outputs": [
    {
     "data": {
      "text/plain": [
       "-1"
      ]
     },
     "execution_count": 82,
     "metadata": {},
     "output_type": "execute_result"
    }
   ],
   "source": [
    "'esta eh uma sentenca'.find('nada')"
   ]
  },
  {
   "cell_type": "code",
   "execution_count": 83,
   "metadata": {
    "ExecuteTime": {
     "end_time": "2021-07-02T17:53:30.096030Z",
     "start_time": "2021-07-02T17:53:30.087037Z"
    }
   },
   "outputs": [
    {
     "data": {
      "text/plain": [
       "'O mundo é grande.'"
      ]
     },
     "execution_count": 83,
     "metadata": {},
     "output_type": "execute_result"
    }
   ],
   "source": [
    "'O mundo é pequeno.'.replace('pequeno', 'grande')"
   ]
  },
  {
   "cell_type": "code",
   "execution_count": 88,
   "metadata": {
    "ExecuteTime": {
     "end_time": "2021-07-02T17:55:54.290444Z",
     "start_time": "2021-07-02T17:55:54.280451Z"
    }
   },
   "outputs": [
    {
     "name": "stdout",
     "output_type": "stream",
     "text": [
      "['w', 'o', 'r', 'l', 'd']\n"
     ]
    },
    {
     "data": {
      "text/plain": [
       "'w:o:r:l:d'"
      ]
     },
     "execution_count": 88,
     "metadata": {},
     "output_type": "execute_result"
    }
   ],
   "source": [
    "l = list('world')\n",
    "print(l)\n",
    "':'.join('world')"
   ]
  },
  {
   "cell_type": "code",
   "execution_count": 86,
   "metadata": {
    "ExecuteTime": {
     "end_time": "2021-07-02T17:55:41.457887Z",
     "start_time": "2021-07-02T17:55:41.452890Z"
    }
   },
   "outputs": [
    {
     "data": {
      "text/plain": [
       "['esta', 'eh', 'uma', 'setenca']"
      ]
     },
     "execution_count": 86,
     "metadata": {},
     "output_type": "execute_result"
    }
   ],
   "source": [
    "'esta eh uma setenca'.rsplit()"
   ]
  },
  {
   "cell_type": "code",
   "execution_count": 87,
   "metadata": {
    "ExecuteTime": {
     "end_time": "2021-07-02T17:55:46.224343Z",
     "start_time": "2021-07-02T17:55:46.212351Z"
    }
   },
   "outputs": [
    {
     "data": {
      "text/plain": [
       "['www', 'amazon', 'com', 'br']"
      ]
     },
     "execution_count": 87,
     "metadata": {},
     "output_type": "execute_result"
    }
   ],
   "source": [
    "'www.amazon.com.br'.rsplit(sep='.', maxsplit=3)"
   ]
  },
  {
   "cell_type": "markdown",
   "metadata": {
    "ExecuteTime": {
     "end_time": "2021-07-02T17:56:16.864967Z",
     "start_time": "2021-07-02T17:56:16.859969Z"
    }
   },
   "source": [
    "Para saber mais sobre strings: https://realpython.com/python-strings/"
   ]
  },
  {
   "cell_type": "markdown",
   "metadata": {},
   "source": [
    "# Dicionários\n",
    "\n",
    "Dicionários são similares a listas, mas podem usar qualquer tipo imutavel de dados como indice."
   ]
  },
  {
   "cell_type": "markdown",
   "metadata": {
    "ExecuteTime": {
     "end_time": "2021-07-02T18:34:11.631186Z",
     "start_time": "2021-07-02T18:34:11.619194Z"
    }
   },
   "source": [
    "## Estrutura de um dicionário {Key:value}"
   ]
  },
  {
   "cell_type": "code",
   "execution_count": 114,
   "metadata": {
    "ExecuteTime": {
     "end_time": "2021-07-02T18:34:29.484806Z",
     "start_time": "2021-07-02T18:34:29.478811Z"
    }
   },
   "outputs": [],
   "source": [
    "tel = {'Antonio': 5752, \n",
    "       'Maria': 5578}"
   ]
  },
  {
   "cell_type": "code",
   "execution_count": 115,
   "metadata": {
    "ExecuteTime": {
     "end_time": "2021-07-02T18:34:29.890858Z",
     "start_time": "2021-07-02T18:34:29.879867Z"
    }
   },
   "outputs": [],
   "source": [
    "tel['Paulo'] = 5915"
   ]
  },
  {
   "cell_type": "code",
   "execution_count": 116,
   "metadata": {
    "ExecuteTime": {
     "end_time": "2021-07-02T18:34:30.341069Z",
     "start_time": "2021-07-02T18:34:30.335073Z"
    }
   },
   "outputs": [
    {
     "name": "stdout",
     "output_type": "stream",
     "text": [
      "{'Antonio': 5752, 'Maria': 5578, 'Paulo': 5915}\n"
     ]
    }
   ],
   "source": [
    "print(tel)"
   ]
  },
  {
   "cell_type": "code",
   "execution_count": 117,
   "metadata": {
    "ExecuteTime": {
     "end_time": "2021-07-02T18:34:35.834083Z",
     "start_time": "2021-07-02T18:34:35.815097Z"
    }
   },
   "outputs": [
    {
     "name": "stdout",
     "output_type": "stream",
     "text": [
      "5752\n"
     ]
    }
   ],
   "source": [
    "print(tel['Antonio'])"
   ]
  },
  {
   "cell_type": "markdown",
   "metadata": {},
   "source": [
    "## Keys()"
   ]
  },
  {
   "cell_type": "code",
   "execution_count": 118,
   "metadata": {
    "ExecuteTime": {
     "end_time": "2021-07-02T18:35:14.172267Z",
     "start_time": "2021-07-02T18:35:14.159274Z"
    }
   },
   "outputs": [
    {
     "data": {
      "text/plain": [
       "dict_keys(['Antonio', 'Maria', 'Paulo'])"
      ]
     },
     "execution_count": 118,
     "metadata": {},
     "output_type": "execute_result"
    }
   ],
   "source": [
    "tel.keys()"
   ]
  },
  {
   "cell_type": "markdown",
   "metadata": {},
   "source": [
    "## Values()"
   ]
  },
  {
   "cell_type": "code",
   "execution_count": 101,
   "metadata": {
    "ExecuteTime": {
     "end_time": "2021-07-02T18:12:00.088369Z",
     "start_time": "2021-07-02T18:12:00.081373Z"
    }
   },
   "outputs": [
    {
     "data": {
      "text/plain": [
       "dict_values([5752, 5578, 5915])"
      ]
     },
     "execution_count": 101,
     "metadata": {},
     "output_type": "execute_result"
    }
   ],
   "source": [
    "tel.values()"
   ]
  },
  {
   "cell_type": "markdown",
   "metadata": {
    "ExecuteTime": {
     "end_time": "2021-07-02T18:35:14.172267Z",
     "start_time": "2021-07-02T18:35:14.159274Z"
    }
   },
   "source": [
    "## Dicionários podem armazenar tipos diferentes:"
   ]
  },
  {
   "cell_type": "code",
   "execution_count": 102,
   "metadata": {
    "ExecuteTime": {
     "end_time": "2021-07-02T18:12:57.590184Z",
     "start_time": "2021-07-02T18:12:57.584187Z"
    }
   },
   "outputs": [
    {
     "name": "stdout",
     "output_type": "stream",
     "text": [
      "{'a': 1, 'b': 2, 3: 'hello'}\n"
     ]
    }
   ],
   "source": [
    "d = {'a':1, 'b':2, 3:'hello'}\n",
    "print(d)"
   ]
  },
  {
   "cell_type": "markdown",
   "metadata": {
    "ExecuteTime": {
     "end_time": "2021-07-02T18:12:00.088369Z",
     "start_time": "2021-07-02T18:12:00.081373Z"
    }
   },
   "source": [
    "Podemos realizar operações com dicionários:"
   ]
  },
  {
   "cell_type": "code",
   "execution_count": 103,
   "metadata": {
    "ExecuteTime": {
     "end_time": "2021-07-02T18:13:29.721891Z",
     "start_time": "2021-07-02T18:13:29.708899Z"
    }
   },
   "outputs": [],
   "source": [
    "estoque = {'abacaxis': 10, 'bananas': 24, 'laranjas': 36, 'peras': 12}"
   ]
  },
  {
   "cell_type": "code",
   "execution_count": 104,
   "metadata": {
    "ExecuteTime": {
     "end_time": "2021-07-02T18:13:51.098928Z",
     "start_time": "2021-07-02T18:13:51.080940Z"
    }
   },
   "outputs": [
    {
     "name": "stdout",
     "output_type": "stream",
     "text": [
      "{'abacaxis': 10, 'bananas': 24, 'laranjas': 36}\n"
     ]
    }
   ],
   "source": [
    "del estoque['peras']\n",
    "print(estoque)"
   ]
  },
  {
   "cell_type": "code",
   "execution_count": 105,
   "metadata": {
    "ExecuteTime": {
     "end_time": "2021-07-02T18:14:03.171194Z",
     "start_time": "2021-07-02T18:14:03.161201Z"
    }
   },
   "outputs": [
    {
     "name": "stdout",
     "output_type": "stream",
     "text": [
      "{'abacaxis': 20, 'bananas': 24, 'laranjas': 36}\n"
     ]
    }
   ],
   "source": [
    "estoque['abacaxis'] = estoque['abacaxis'] + 10\n",
    "print(estoque)"
   ]
  },
  {
   "cell_type": "markdown",
   "metadata": {},
   "source": [
    "Dicionários podem ser usados para criar histogramas:"
   ]
  },
  {
   "cell_type": "code",
   "execution_count": 106,
   "metadata": {
    "ExecuteTime": {
     "end_time": "2021-07-02T18:14:49.496011Z",
     "start_time": "2021-07-02T18:14:49.488016Z"
    }
   },
   "outputs": [
    {
     "name": "stdout",
     "output_type": "stream",
     "text": [
      "{'b': 1, 'a': 3, 'n': 2}\n"
     ]
    }
   ],
   "source": [
    "letterCounts = {}\n",
    "for letter in \"banana\":\n",
    "    letterCounts[letter] = letterCounts.get(letter,0) + 1\n",
    "print(letterCounts)"
   ]
  },
  {
   "cell_type": "markdown",
   "metadata": {},
   "source": [
    "# Vetores e matrizes\n",
    "\n",
    "Vetores e matrizes não são tipos de dados padrões da linguagem Python. Para trabalharmos com dados numéricos, podemos usar a biblioteca Numpy, que é uma biblioteca científica para cálculo de vetores multidimensionais.\n",
    "\n",
    "Para maiores informações sobre essa biblioteca, vejam: https://numpy.org/\n",
    "\n",
    "As bibliotecas Numpy, SciPy e Matplotlib podem ser usadas de forma equivalente ao Matlab, possuindo funções bastante parecidas. Logo, para usurários de Matlab, a migração para Python é bastante simples. A linguamge Python também apresenta similaridades com a linguagem R. No entanto, C, C++, Java são bastante diferentes de Python.\n",
    "\n",
    "Para definirmos dois vetores e realizamos a soma:"
   ]
  },
  {
   "cell_type": "code",
   "execution_count": null,
   "metadata": {},
   "outputs": [],
   "source": [
    "import numpy as np # os comandos da biblioteca numpy serao precedidos por 'np.'"
   ]
  },
  {
   "cell_type": "code",
   "execution_count": 107,
   "metadata": {
    "ExecuteTime": {
     "end_time": "2021-07-02T18:31:45.464845Z",
     "start_time": "2021-07-02T18:31:45.457851Z"
    }
   },
   "outputs": [
    {
     "name": "stdout",
     "output_type": "stream",
     "text": [
      "[8 9 3]\n"
     ]
    }
   ],
   "source": [
    "x = np.array([1,5,2])\n",
    "y = np.array([7,4,1])\n",
    "z = x + y\n",
    "print(z)"
   ]
  },
  {
   "cell_type": "markdown",
   "metadata": {
    "ExecuteTime": {
     "end_time": "2021-07-02T18:31:52.437804Z",
     "start_time": "2021-07-02T18:31:52.424813Z"
    }
   },
   "source": [
    "Para iniciar um vetor com elementos iguais a zero ou um, usamos os seguintes comandos:"
   ]
  },
  {
   "cell_type": "code",
   "execution_count": 109,
   "metadata": {
    "ExecuteTime": {
     "end_time": "2021-07-02T18:32:05.595361Z",
     "start_time": "2021-07-02T18:32:05.589365Z"
    }
   },
   "outputs": [
    {
     "name": "stdout",
     "output_type": "stream",
     "text": [
      "x =  [0. 0. 0.] y =  [1. 1. 1.]\n"
     ]
    }
   ],
   "source": [
    "N = 3\n",
    "x = np.zeros(N)\n",
    "y = np.ones(N)\n",
    "print(\"x = \", x, \"y = \", y)"
   ]
  },
  {
   "cell_type": "markdown",
   "metadata": {
    "ExecuteTime": {
     "end_time": "2021-07-02T18:32:13.691199Z",
     "start_time": "2021-07-02T18:32:13.685204Z"
    }
   },
   "source": [
    "Para sabermos o tamanho de um vetor, usamos o comando:"
   ]
  },
  {
   "cell_type": "code",
   "execution_count": 119,
   "metadata": {
    "ExecuteTime": {
     "end_time": "2021-07-02T18:40:31.235357Z",
     "start_time": "2021-07-02T18:40:31.223363Z"
    }
   },
   "outputs": [
    {
     "name": "stdout",
     "output_type": "stream",
     "text": [
      "N =  3\n"
     ]
    }
   ],
   "source": [
    "x = [1,2,3]\n",
    "x = np.array(x)\n",
    "N = np.shape(x)[0]\n",
    "print(\"N = \", N)"
   ]
  },
  {
   "cell_type": "markdown",
   "metadata": {},
   "source": [
    "O produto escalar de dois vetores:"
   ]
  },
  {
   "cell_type": "code",
   "execution_count": 112,
   "metadata": {
    "ExecuteTime": {
     "end_time": "2021-07-02T18:32:45.321583Z",
     "start_time": "2021-07-02T18:32:45.304595Z"
    }
   },
   "outputs": [
    {
     "name": "stdout",
     "output_type": "stream",
     "text": [
      "27\n"
     ]
    }
   ],
   "source": [
    "x = np.array([1,2,3])\n",
    "y = np.array([1,4,6])\n",
    "z = np.dot(x,y)\n",
    "print(z)"
   ]
  },
  {
   "cell_type": "markdown",
   "metadata": {},
   "source": [
    "## Produto vetorial"
   ]
  },
  {
   "cell_type": "code",
   "execution_count": 133,
   "metadata": {
    "ExecuteTime": {
     "end_time": "2021-07-02T18:50:31.442848Z",
     "start_time": "2021-07-02T18:50:31.425858Z"
    }
   },
   "outputs": [],
   "source": [
    "x = np.array([0,0,1]) ; y = np.array([0,1,0])"
   ]
  },
  {
   "cell_type": "code",
   "execution_count": 135,
   "metadata": {
    "ExecuteTime": {
     "end_time": "2021-07-02T18:50:54.679021Z",
     "start_time": "2021-07-02T18:50:54.669027Z"
    }
   },
   "outputs": [
    {
     "name": "stdout",
     "output_type": "stream",
     "text": [
      "[0 0 1]\n",
      "[0 1 0]\n"
     ]
    }
   ],
   "source": [
    "print(x) ; print(y) "
   ]
  },
  {
   "cell_type": "code",
   "execution_count": 136,
   "metadata": {
    "ExecuteTime": {
     "end_time": "2021-07-02T18:51:03.059626Z",
     "start_time": "2021-07-02T18:51:03.052632Z"
    }
   },
   "outputs": [
    {
     "name": "stdout",
     "output_type": "stream",
     "text": [
      "[-1  0  0]\n"
     ]
    }
   ],
   "source": [
    "z = np.cross(x,y)\n",
    "print(z)"
   ]
  },
  {
   "cell_type": "markdown",
   "metadata": {},
   "source": [
    "Além de vetores, podemos definir variáveis como matrizes. Uma maneira é considerar uma lista de listas."
   ]
  },
  {
   "cell_type": "code",
   "execution_count": 121,
   "metadata": {
    "ExecuteTime": {
     "end_time": "2021-07-02T18:41:26.108997Z",
     "start_time": "2021-07-02T18:41:26.095006Z"
    }
   },
   "outputs": [
    {
     "name": "stdout",
     "output_type": "stream",
     "text": [
      "A =  [[1, 2, 3], [4, 5, 6], [7, 8, 9]]\n"
     ]
    }
   ],
   "source": [
    "A = [[1,2,3], [4,5,6], [7,8,9]]\n",
    "print(\"A = \", A)"
   ]
  },
  {
   "cell_type": "markdown",
   "metadata": {},
   "source": [
    "Nesse caso, deve-se atentar para a operação \"+\", que não representa a soma dos elementos, mas uma união de listas."
   ]
  },
  {
   "cell_type": "code",
   "execution_count": 122,
   "metadata": {
    "ExecuteTime": {
     "end_time": "2021-07-02T18:41:53.268537Z",
     "start_time": "2021-07-02T18:41:53.249548Z"
    }
   },
   "outputs": [
    {
     "name": "stdout",
     "output_type": "stream",
     "text": [
      "C =  [[1, 2, 3], [4, 5, 6], [7, 8, 9], [-1, -2, -3], [1, 1, 1], [0, 0, 0]]\n"
     ]
    }
   ],
   "source": [
    "A = [[1,2,3], [4,5,6], [7,8,9]]\n",
    "B = [[-1,-2,-3], [1,1,1], [0,0,0]]\n",
    "C = A + B\n",
    "print(\"C = \", C)"
   ]
  },
  {
   "cell_type": "markdown",
   "metadata": {},
   "source": [
    "Para usar matrizes de maneira usual, é mais adequado consideramos a biblioteca Numpy."
   ]
  },
  {
   "cell_type": "code",
   "execution_count": 123,
   "metadata": {
    "ExecuteTime": {
     "end_time": "2021-07-02T18:42:36.540938Z",
     "start_time": "2021-07-02T18:42:36.529945Z"
    }
   },
   "outputs": [],
   "source": [
    "A = np.array([[1,2,3], [4,5,6], [7,8,9]])\n",
    "B = np.array([[10,11,12], [13,14,15], [16,17,18]])\n",
    "C = 2*(A + B)"
   ]
  },
  {
   "cell_type": "code",
   "execution_count": 126,
   "metadata": {
    "ExecuteTime": {
     "end_time": "2021-07-02T18:44:11.545750Z",
     "start_time": "2021-07-02T18:44:11.525763Z"
    }
   },
   "outputs": [
    {
     "name": "stdout",
     "output_type": "stream",
     "text": [
      "A = \n",
      " [[1 2 3]\n",
      " [4 5 6]\n",
      " [7 8 9]]\n",
      "\n",
      "B = \n",
      " [[10 11 12]\n",
      " [13 14 15]\n",
      " [16 17 18]]\n",
      "\n",
      "C = 2*(A + B) = \n",
      " [[22 26 30]\n",
      " [34 38 42]\n",
      " [46 50 54]]\n"
     ]
    }
   ],
   "source": [
    "print(\"A = \\n\", A)\n",
    "print(\"\\nB = \\n\", B)\n",
    "print(\"\\nC = 2*(A + B) = \\n\", C)"
   ]
  },
  {
   "cell_type": "markdown",
   "metadata": {},
   "source": [
    "Para saber o número de linhas e colunas em uma matriz, usamos:"
   ]
  },
  {
   "cell_type": "code",
   "execution_count": 128,
   "metadata": {
    "ExecuteTime": {
     "end_time": "2021-07-02T18:44:11.545750Z",
     "start_time": "2021-07-02T18:44:11.525763Z"
    }
   },
   "outputs": [
    {
     "name": "stdout",
     "output_type": "stream",
     "text": [
      "A = \n",
      " [[1 2 3]\n",
      " [4 5 6]]\n",
      "\n",
      "Numero de linhas: 2 \n",
      "Numero de colunas: 3\n"
     ]
    }
   ],
   "source": [
    "A = np.array([[1,2,3], [4,5,6]])\n",
    "[nrow, ncol] = np.shape(A)\n",
    "print(\"A = \\n\", A)\n",
    "print(\"\\nNumero de linhas:\", nrow, \"\\nNumero de colunas:\", ncol)"
   ]
  },
  {
   "cell_type": "markdown",
   "metadata": {},
   "source": [
    "Para elevar os elementos de um vetor a uma data potência:"
   ]
  },
  {
   "cell_type": "code",
   "execution_count": 129,
   "metadata": {
    "ExecuteTime": {
     "end_time": "2021-07-02T18:44:41.916452Z",
     "start_time": "2021-07-02T18:44:41.897464Z"
    }
   },
   "outputs": [
    {
     "name": "stdout",
     "output_type": "stream",
     "text": [
      "[ 1  8 27]\n"
     ]
    }
   ],
   "source": [
    "x = np.array([1,2,3])\n",
    "y = x**3\n",
    "print(y)"
   ]
  },
  {
   "cell_type": "markdown",
   "metadata": {},
   "source": [
    "Também podemos usar a função `pow()`:"
   ]
  },
  {
   "cell_type": "code",
   "execution_count": 130,
   "metadata": {
    "ExecuteTime": {
     "end_time": "2021-07-02T18:45:14.747336Z",
     "start_time": "2021-07-02T18:45:14.737341Z"
    }
   },
   "outputs": [
    {
     "name": "stdout",
     "output_type": "stream",
     "text": [
      "[ 1  8 27]\n"
     ]
    }
   ],
   "source": [
    "n = 3\n",
    "x = np.array([1,2,3])\n",
    "y = pow(x,n)\n",
    "print(y)"
   ]
  },
  {
   "cell_type": "markdown",
   "metadata": {},
   "source": [
    "## Estruturas Condicionais\n",
    "\n",
    "O comando if tem a seguinte estrutura:"
   ]
  },
  {
   "cell_type": "markdown",
   "metadata": {},
   "source": [
    "`if condition:\n",
    "  if_body\n",
    "else:\n",
    "  else_body`"
   ]
  },
  {
   "cell_type": "markdown",
   "metadata": {},
   "source": [
    "Note que após a condição, usamos ':' e a linha a seguir deve conter um espaço antes do comando. Por exemplo, para verificarmos se um número é par:"
   ]
  },
  {
   "cell_type": "code",
   "execution_count": 131,
   "metadata": {
    "ExecuteTime": {
     "end_time": "2021-07-02T18:47:44.261554Z",
     "start_time": "2021-07-02T18:47:44.247564Z"
    }
   },
   "outputs": [
    {
     "name": "stdout",
     "output_type": "stream",
     "text": [
      "x é ímpar.\n"
     ]
    }
   ],
   "source": [
    "x = 3\n",
    "if x%2 == 0: # O comando % retorna o resto da divisao\n",
    "    print('x é par.')\n",
    "else:\n",
    "    print('x é ímpar.')   "
   ]
  },
  {
   "cell_type": "markdown",
   "metadata": {},
   "source": [
    "Além do comando if, podemos usar o comando `elif:` para combinar condicionais:"
   ]
  },
  {
   "cell_type": "code",
   "execution_count": 137,
   "metadata": {
    "ExecuteTime": {
     "end_time": "2021-07-02T19:03:44.455641Z",
     "start_time": "2021-07-02T19:03:44.448644Z"
    }
   },
   "outputs": [
    {
     "name": "stdout",
     "output_type": "stream",
     "text": [
      "a is greater than b\n"
     ]
    }
   ],
   "source": [
    "a = 200\n",
    "b = 33\n",
    "if b > a:\n",
    "  print(\"b is greater than a\")\n",
    "elif a == b:\n",
    "  print(\"a and b are equal\")\n",
    "else:\n",
    "  print(\"a is greater than b\")"
   ]
  },
  {
   "cell_type": "markdown",
   "metadata": {},
   "source": [
    "Podemos executar o comando em uma única linha:"
   ]
  },
  {
   "cell_type": "code",
   "execution_count": 138,
   "metadata": {
    "ExecuteTime": {
     "end_time": "2021-07-02T19:04:00.966728Z",
     "start_time": "2021-07-02T19:04:00.948739Z"
    }
   },
   "outputs": [
    {
     "name": "stdout",
     "output_type": "stream",
     "text": [
      "a is greater than b\n"
     ]
    }
   ],
   "source": [
    "if a > b: print(\"a is greater than b\")"
   ]
  },
  {
   "cell_type": "markdown",
   "metadata": {},
   "source": [
    "Ou então:"
   ]
  },
  {
   "cell_type": "code",
   "execution_count": 140,
   "metadata": {
    "ExecuteTime": {
     "end_time": "2021-07-02T19:04:28.659141Z",
     "start_time": "2021-07-02T19:04:28.649147Z"
    }
   },
   "outputs": [
    {
     "name": "stdout",
     "output_type": "stream",
     "text": [
      "B\n"
     ]
    }
   ],
   "source": [
    "a = 3\n",
    "b = 4\n",
    "print(\"A\") if a > b else print(\"=\") if a == b else print(\"B\")"
   ]
  },
  {
   "cell_type": "markdown",
   "metadata": {},
   "source": [
    "# Repetição\n",
    "\n",
    "As estruturas de repetição em `Python` incluem os laços `for` e `while`.\n",
    "\n",
    "## Loop For\n",
    "\n",
    "O laço `for` é usado para iterar em uma sequência, que pode ser uma:\n",
    "\n",
    "- lista\n",
    "- tupla\n",
    "- dicionário\n",
    "- set \n",
    "- string. \n",
    "\n",
    "A estrutura do loop for:"
   ]
  },
  {
   "cell_type": "markdown",
   "metadata": {},
   "source": [
    "`for iterator:\n",
    "  commands`\n"
   ]
  },
  {
   "cell_type": "markdown",
   "metadata": {},
   "source": [
    "### Por exemplo, considerando uma lista"
   ]
  },
  {
   "cell_type": "code",
   "execution_count": 141,
   "metadata": {
    "ExecuteTime": {
     "end_time": "2021-07-02T19:08:40.663527Z",
     "start_time": "2021-07-02T19:08:40.650535Z"
    }
   },
   "outputs": [
    {
     "name": "stdout",
     "output_type": "stream",
     "text": [
      "maça\n",
      "banana\n",
      "abacate\n"
     ]
    }
   ],
   "source": [
    "fruits = [\"maça\", \"banana\", \"abacate\"]\n",
    "for x in fruits:\n",
    "  print(x)"
   ]
  },
  {
   "cell_type": "markdown",
   "metadata": {
    "ExecuteTime": {
     "end_time": "2021-07-02T19:11:30.244942Z",
     "start_time": "2021-07-02T19:11:30.226955Z"
    }
   },
   "source": [
    "### Em uma string"
   ]
  },
  {
   "cell_type": "code",
   "execution_count": 142,
   "metadata": {
    "ExecuteTime": {
     "end_time": "2021-07-02T19:09:02.368396Z",
     "start_time": "2021-07-02T19:09:02.357402Z"
    }
   },
   "outputs": [
    {
     "name": "stdout",
     "output_type": "stream",
     "text": [
      "b\n",
      "a\n",
      "n\n",
      "a\n",
      "n\n",
      "a\n"
     ]
    }
   ],
   "source": [
    "for x in \"banana\":\n",
    "  print(x)"
   ]
  },
  {
   "cell_type": "markdown",
   "metadata": {},
   "source": [
    "### `break`\n",
    "\n",
    "Para encerrar a execução do laço for, podemos usar o comando `break`:"
   ]
  },
  {
   "cell_type": "code",
   "execution_count": 143,
   "metadata": {
    "ExecuteTime": {
     "end_time": "2021-07-02T19:10:01.454150Z",
     "start_time": "2021-07-02T19:10:01.442157Z"
    }
   },
   "outputs": [
    {
     "name": "stdout",
     "output_type": "stream",
     "text": [
      "maça\n",
      "banana\n"
     ]
    }
   ],
   "source": [
    "fruits = [\"maça\", \"banana\", \"abacate\"]\n",
    "for x in fruits:\n",
    "  print(x) \n",
    "  if x == \"banana\":\n",
    "    break"
   ]
  },
  {
   "cell_type": "markdown",
   "metadata": {},
   "source": [
    "### `range`\n",
    "\n",
    "Podemos ainda definir o laço em um intervalo definido pela função `range`:"
   ]
  },
  {
   "cell_type": "code",
   "execution_count": 144,
   "metadata": {
    "ExecuteTime": {
     "end_time": "2021-07-02T19:10:31.672176Z",
     "start_time": "2021-07-02T19:10:31.668178Z"
    }
   },
   "outputs": [
    {
     "name": "stdout",
     "output_type": "stream",
     "text": [
      "2\n",
      "4\n",
      "6\n"
     ]
    }
   ],
   "source": [
    "for x in range(2, 8, 2):\n",
    "  print(x)"
   ]
  },
  {
   "cell_type": "markdown",
   "metadata": {},
   "source": [
    "### `Loop For` and `else` \n",
    "\n",
    "Podemos usar o comando else juntamente com o for:"
   ]
  },
  {
   "cell_type": "code",
   "execution_count": 147,
   "metadata": {
    "ExecuteTime": {
     "end_time": "2021-07-02T19:13:41.651827Z",
     "start_time": "2021-07-02T19:13:41.638835Z"
    }
   },
   "outputs": [
    {
     "name": "stdout",
     "output_type": "stream",
     "text": [
      "0\n",
      "1\n",
      "2\n",
      "3\n",
      "4\n",
      "5\n",
      "Finally finished!\n"
     ]
    }
   ],
   "source": [
    "for x in range(6):\n",
    "  print(x)\n",
    "else:\n",
    "  print(\"Finally finished!\")"
   ]
  },
  {
   "cell_type": "markdown",
   "metadata": {},
   "source": [
    "### Laço \n",
    "\n",
    "podem ser incluídos dentro de outros laços (nested loops):"
   ]
  },
  {
   "cell_type": "code",
   "execution_count": 149,
   "metadata": {
    "ExecuteTime": {
     "end_time": "2021-07-02T19:14:44.309790Z",
     "start_time": "2021-07-02T19:14:44.295801Z"
    }
   },
   "outputs": [
    {
     "name": "stdout",
     "output_type": "stream",
     "text": [
      "vermelha maça\n",
      "vermelha banana\n",
      "vermelha abacate\n",
      "grande maça\n",
      "grande banana\n",
      "grande abacate\n",
      "doce maça\n",
      "doce banana\n",
      "doce abacate\n"
     ]
    }
   ],
   "source": [
    "adj = [\"vermelha\", \"grande\", \"doce\"]\n",
    "fruits = [\"maça\", \"banana\", \"abacate\"]\n",
    "\n",
    "for x in adj:\n",
    "  for y in fruits:\n",
    "    print(x, y)"
   ]
  },
  {
   "cell_type": "markdown",
   "metadata": {},
   "source": [
    "# `While`\n",
    "\n",
    "No caso do laço while, a sequência de comandos é repetida equanto a condição for verdadeira:\n",
    "\n",
    "`while condition:\n",
    "  commands`"
   ]
  },
  {
   "cell_type": "markdown",
   "metadata": {},
   "source": [
    "## Por exemplo:"
   ]
  },
  {
   "cell_type": "code",
   "execution_count": 150,
   "metadata": {
    "ExecuteTime": {
     "end_time": "2021-07-02T19:15:43.542144Z",
     "start_time": "2021-07-02T19:15:43.533150Z"
    }
   },
   "outputs": [
    {
     "name": "stdout",
     "output_type": "stream",
     "text": [
      "1\n",
      "2\n",
      "3\n",
      "4\n",
      "5\n"
     ]
    }
   ],
   "source": [
    "i = 1\n",
    "while i < 6:\n",
    "  print(i)\n",
    "  i += 1"
   ]
  },
  {
   "cell_type": "markdown",
   "metadata": {},
   "source": [
    "## `Laço While with Break`\n",
    "\n",
    "Podemos interromper o laço com o comando break:"
   ]
  },
  {
   "cell_type": "code",
   "execution_count": 151,
   "metadata": {
    "ExecuteTime": {
     "end_time": "2021-07-02T19:17:48.439950Z",
     "start_time": "2021-07-02T19:17:48.422959Z"
    }
   },
   "outputs": [
    {
     "name": "stdout",
     "output_type": "stream",
     "text": [
      "1\n",
      "2\n",
      "3\n"
     ]
    }
   ],
   "source": [
    "i = 1\n",
    "while i < 6:\n",
    "  print(i)\n",
    "  if i == 3:\n",
    "    break\n",
    "  i += 1"
   ]
  },
  {
   "cell_type": "markdown",
   "metadata": {},
   "source": [
    "## Funções\n",
    "\n",
    "Uma função é um bloco de comando que é executado quando a função é chamada. A estrutura de uma função:\n",
    "\n",
    "`def functionname( parameters ):\n",
    "  commands\n",
    "  return [expression]`\n",
    "\n",
    "Funções são úteis para:\n",
    "\n",
    "- Dar um nome para uma seqüência de comandos tornar o programa mais fácil de ler e de depurar.\n",
    "- Dividir um programa longo em funções permite que você separe partes do programa, depure-as isoladamente, \n",
    "e então as componha em um todo. \n",
    "- Funções facilitam tanto recursão quanto iteração.\n",
    "- Funções bem projetadas são freqüentemente úteis para muitos programas.\n",
    "\n",
    "Por exemplo:\n"
   ]
  },
  {
   "cell_type": "code",
   "execution_count": 152,
   "metadata": {
    "ExecuteTime": {
     "end_time": "2021-07-02T19:22:00.322781Z",
     "start_time": "2021-07-02T19:22:00.313786Z"
    }
   },
   "outputs": [],
   "source": [
    "def my_function(country = \"Brazil\"):\n",
    "  print(\"Eu nasci em \" + country)"
   ]
  },
  {
   "cell_type": "code",
   "execution_count": 153,
   "metadata": {
    "ExecuteTime": {
     "end_time": "2021-07-02T19:22:15.533547Z",
     "start_time": "2021-07-02T19:22:15.520555Z"
    }
   },
   "outputs": [
    {
     "name": "stdout",
     "output_type": "stream",
     "text": [
      "Eu nasci em Espanha\n",
      "Eu nasci em México\n",
      "Eu nasci em Portugal\n",
      "Eu nasci em Brazil\n"
     ]
    }
   ],
   "source": [
    "my_function(\"Espanha\")\n",
    "my_function(\"México\")\n",
    "my_function(\"Portugal\")\n",
    "my_function()"
   ]
  },
  {
   "cell_type": "markdown",
   "metadata": {},
   "source": [
    "Uma função pode retornar valores:"
   ]
  },
  {
   "cell_type": "code",
   "execution_count": 154,
   "metadata": {
    "ExecuteTime": {
     "end_time": "2021-07-02T19:22:57.453737Z",
     "start_time": "2021-07-02T19:22:57.440744Z"
    }
   },
   "outputs": [],
   "source": [
    "def my_function(x):\n",
    "  return 5 * x"
   ]
  },
  {
   "cell_type": "code",
   "execution_count": 155,
   "metadata": {
    "ExecuteTime": {
     "end_time": "2021-07-02T19:23:00.655464Z",
     "start_time": "2021-07-02T19:23:00.640474Z"
    }
   },
   "outputs": [
    {
     "name": "stdout",
     "output_type": "stream",
     "text": [
      "15\n",
      "25\n",
      "45\n"
     ]
    }
   ],
   "source": [
    "print(my_function(3))\n",
    "print(my_function(5))\n",
    "print(my_function(9))"
   ]
  },
  {
   "cell_type": "markdown",
   "metadata": {},
   "source": [
    "Em Python, os parâmetros de uma função podem ser passados por valor ou referência. Vejam o exemplo:"
   ]
  },
  {
   "cell_type": "code",
   "execution_count": 156,
   "metadata": {
    "ExecuteTime": {
     "end_time": "2021-07-02T19:23:29.623052Z",
     "start_time": "2021-07-02T19:23:29.604064Z"
    }
   },
   "outputs": [],
   "source": [
    "def change(x, y):\n",
    "    x.append([0,0,0])\n",
    "    y = [-1,-1]\n",
    "    return"
   ]
  },
  {
   "cell_type": "code",
   "execution_count": 157,
   "metadata": {
    "ExecuteTime": {
     "end_time": "2021-07-02T19:24:23.089778Z",
     "start_time": "2021-07-02T19:24:23.076788Z"
    }
   },
   "outputs": [
    {
     "name": "stdout",
     "output_type": "stream",
     "text": [
      "Antes: x: [1, 2, 3] y: [0, 0]\n"
     ]
    }
   ],
   "source": [
    "x = [1,2,3] ; y = [0,0]\n",
    "print(\"Antes:\", 'x:', x, 'y:', y)"
   ]
  },
  {
   "cell_type": "code",
   "execution_count": 158,
   "metadata": {
    "ExecuteTime": {
     "end_time": "2021-07-02T19:24:29.319351Z",
     "start_time": "2021-07-02T19:24:29.301362Z"
    }
   },
   "outputs": [
    {
     "name": "stdout",
     "output_type": "stream",
     "text": [
      "Depois: x: [1, 2, 3, [0, 0, 0]] y: [0, 0]\n"
     ]
    }
   ],
   "source": [
    "change(x,y)\n",
    "print(\"Depois:\", 'x:', x, 'y:', y)"
   ]
  },
  {
   "cell_type": "markdown",
   "metadata": {},
   "source": [
    "Note que quando usamos funções, devemos definir variáveis como globais ou locais. Por exemplo:"
   ]
  },
  {
   "cell_type": "code",
   "execution_count": 159,
   "metadata": {
    "ExecuteTime": {
     "end_time": "2021-07-02T19:36:18.669940Z",
     "start_time": "2021-07-02T19:36:18.664944Z"
    }
   },
   "outputs": [],
   "source": [
    "#!/usr/bin/python\n",
    "total = 0; # This is global variable.\n",
    "# Function definition is here\n",
    "def sum( arg1, arg2 ):\n",
    "   # Add both the parameters and return them.\"\n",
    "   total = arg1 + arg2; # Here total is local variable.\n",
    "   print(\"Inside the function local total : \", total)\n",
    "   return total;"
   ]
  },
  {
   "cell_type": "code",
   "execution_count": 160,
   "metadata": {
    "ExecuteTime": {
     "end_time": "2021-07-02T19:36:59.483907Z",
     "start_time": "2021-07-02T19:36:59.478908Z"
    }
   },
   "outputs": [
    {
     "name": "stdout",
     "output_type": "stream",
     "text": [
      "Inside the function local total :  30\n"
     ]
    }
   ],
   "source": [
    "# Now you can call sum function\n",
    "a = sum( 10, 20 );"
   ]
  },
  {
   "cell_type": "code",
   "execution_count": 161,
   "metadata": {
    "ExecuteTime": {
     "end_time": "2021-07-02T19:37:01.376166Z",
     "start_time": "2021-07-02T19:37:01.357177Z"
    }
   },
   "outputs": [
    {
     "name": "stdout",
     "output_type": "stream",
     "text": [
      "Outside the function global total : 0\n"
     ]
    }
   ],
   "source": [
    "print(\"Outside the function global total :\", total)"
   ]
  },
  {
   "cell_type": "markdown",
   "metadata": {},
   "source": [
    "# Arquivos\n",
    "\n",
    "## Abrindo um arquivo para escrita"
   ]
  },
  {
   "cell_type": "code",
   "execution_count": 168,
   "metadata": {
    "ExecuteTime": {
     "end_time": "2021-07-02T19:40:10.187925Z",
     "start_time": "2021-07-02T19:40:10.176932Z"
    }
   },
   "outputs": [],
   "source": [
    "myfile = open('myfile.txt', 'w')"
   ]
  },
  {
   "cell_type": "markdown",
   "metadata": {},
   "source": [
    "## Escreve uma linha no arquivo"
   ]
  },
  {
   "cell_type": "code",
   "execution_count": 172,
   "metadata": {
    "ExecuteTime": {
     "end_time": "2021-07-02T19:42:16.738421Z",
     "start_time": "2021-07-02T19:42:16.720432Z"
    }
   },
   "outputs": [
    {
     "data": {
      "text/plain": [
       "16"
      ]
     },
     "execution_count": 172,
     "metadata": {},
     "output_type": "execute_result"
    }
   ],
   "source": [
    "myfile.write('hello text file\\n')"
   ]
  },
  {
   "cell_type": "code",
   "execution_count": 173,
   "metadata": {
    "ExecuteTime": {
     "end_time": "2021-07-02T19:42:17.502655Z",
     "start_time": "2021-07-02T19:42:17.492662Z"
    }
   },
   "outputs": [
    {
     "data": {
      "text/plain": [
       "18"
      ]
     },
     "execution_count": 173,
     "metadata": {},
     "output_type": "execute_result"
    }
   ],
   "source": [
    "myfile.write('goodbye text file\\n')"
   ]
  },
  {
   "cell_type": "code",
   "execution_count": 174,
   "metadata": {
    "ExecuteTime": {
     "end_time": "2021-07-02T19:42:17.949379Z",
     "start_time": "2021-07-02T19:42:17.932389Z"
    }
   },
   "outputs": [
    {
     "data": {
      "text/plain": [
       "9"
      ]
     },
     "execution_count": 174,
     "metadata": {},
     "output_type": "execute_result"
    }
   ],
   "source": [
    "X, Y, Z = 43, 44, 45\n",
    "myfile.write('%s,%s,%s\\n' % (X, Y, Z))"
   ]
  },
  {
   "cell_type": "markdown",
   "metadata": {},
   "source": [
    "## Fecha o arquivo"
   ]
  },
  {
   "cell_type": "code",
   "execution_count": 175,
   "metadata": {
    "ExecuteTime": {
     "end_time": "2021-07-02T19:42:23.926812Z",
     "start_time": "2021-07-02T19:42:23.920814Z"
    }
   },
   "outputs": [],
   "source": [
    "myfile.close()"
   ]
  },
  {
   "cell_type": "markdown",
   "metadata": {},
   "source": [
    "## Abrir para Leitura"
   ]
  },
  {
   "cell_type": "code",
   "execution_count": 176,
   "metadata": {
    "ExecuteTime": {
     "end_time": "2021-07-02T19:43:37.711067Z",
     "start_time": "2021-07-02T19:43:37.702071Z"
    }
   },
   "outputs": [],
   "source": [
    "myfile = open('myfile.txt')"
   ]
  },
  {
   "cell_type": "markdown",
   "metadata": {},
   "source": [
    "## Lê a primeira linha do arquivo"
   ]
  },
  {
   "cell_type": "code",
   "execution_count": 177,
   "metadata": {
    "ExecuteTime": {
     "end_time": "2021-07-02T19:44:05.948450Z",
     "start_time": "2021-07-02T19:44:05.938456Z"
    }
   },
   "outputs": [
    {
     "data": {
      "text/plain": [
       "'hello text file\\n'"
      ]
     },
     "execution_count": 177,
     "metadata": {},
     "output_type": "execute_result"
    }
   ],
   "source": [
    "myfile.readline()"
   ]
  },
  {
   "cell_type": "markdown",
   "metadata": {},
   "source": [
    "## Lê a próxima linha"
   ]
  },
  {
   "cell_type": "code",
   "execution_count": 178,
   "metadata": {
    "ExecuteTime": {
     "end_time": "2021-07-02T19:44:55.159073Z",
     "start_time": "2021-07-02T19:44:55.147080Z"
    }
   },
   "outputs": [
    {
     "data": {
      "text/plain": [
       "'goodbye text file\\n'"
      ]
     },
     "execution_count": 178,
     "metadata": {},
     "output_type": "execute_result"
    }
   ],
   "source": [
    "myfile.readline()"
   ]
  },
  {
   "cell_type": "code",
   "execution_count": 179,
   "metadata": {
    "ExecuteTime": {
     "end_time": "2021-07-02T19:44:56.453883Z",
     "start_time": "2021-07-02T19:44:56.447889Z"
    }
   },
   "outputs": [
    {
     "data": {
      "text/plain": [
       "'43,44,45\\n'"
      ]
     },
     "execution_count": 179,
     "metadata": {},
     "output_type": "execute_result"
    }
   ],
   "source": [
    "myfile.readline()"
   ]
  },
  {
   "cell_type": "code",
   "execution_count": 180,
   "metadata": {
    "ExecuteTime": {
     "end_time": "2021-07-02T19:45:11.204718Z",
     "start_time": "2021-07-02T19:45:11.197722Z"
    }
   },
   "outputs": [
    {
     "data": {
      "text/plain": [
       "'hello text file\\n'"
      ]
     },
     "execution_count": 180,
     "metadata": {},
     "output_type": "execute_result"
    }
   ],
   "source": [
    "myfile.readline()"
   ]
  },
  {
   "cell_type": "markdown",
   "metadata": {
    "ExecuteTime": {
     "end_time": "2021-07-02T19:45:25.090704Z",
     "start_time": "2021-07-02T19:45:25.076712Z"
    }
   },
   "source": [
    "Podemos gerar uma tabela e escrevê-la em um arquivo com um único comando, usando a biblioteca numpy:"
   ]
  },
  {
   "cell_type": "code",
   "execution_count": 190,
   "metadata": {
    "ExecuteTime": {
     "end_time": "2021-07-02T19:47:27.935188Z",
     "start_time": "2021-07-02T19:47:27.916199Z"
    }
   },
   "outputs": [
    {
     "name": "stdout",
     "output_type": "stream",
     "text": [
      "[[0.07491344 0.85918939 0.96389565 0.94131899 0.43063569 0.72613506\n",
      "  0.73160444 0.78236881 0.92881803 0.21028197]\n",
      " [0.17709674 0.9661405  0.96503211 0.6825339  0.14824084 0.71683634\n",
      "  0.61855899 0.33171286 0.09114815 0.30203007]\n",
      " [0.92896319 0.16530885 0.91865273 0.56221806 0.62756243 0.58979624\n",
      "  0.82016116 0.76854858 0.6831108  0.5393795 ]\n",
      " [0.05681166 0.16927763 0.46461792 0.82382475 0.35611952 0.54691441\n",
      "  0.42459227 0.11988909 0.64402477 0.87025612]]\n"
     ]
    }
   ],
   "source": [
    "x = np.random.rand(10,10)"
   ]
  },
  {
   "cell_type": "code",
   "execution_count": 194,
   "metadata": {
    "ExecuteTime": {
     "end_time": "2021-07-02T19:48:22.281880Z",
     "start_time": "2021-07-02T19:48:22.275884Z"
    }
   },
   "outputs": [
    {
     "name": "stdout",
     "output_type": "stream",
     "text": [
      "[[0.24533741 0.48035131 0.74729783 0.76722271 0.24785834 0.74270928\n",
      "  0.61013776 0.78429847 0.0554543  0.02622568]\n",
      " [0.07491344 0.85918939 0.96389565 0.94131899 0.43063569 0.72613506\n",
      "  0.73160444 0.78236881 0.92881803 0.21028197]\n",
      " [0.17709674 0.9661405  0.96503211 0.6825339  0.14824084 0.71683634\n",
      "  0.61855899 0.33171286 0.09114815 0.30203007]\n",
      " [0.92896319 0.16530885 0.91865273 0.56221806 0.62756243 0.58979624\n",
      "  0.82016116 0.76854858 0.6831108  0.5393795 ]\n",
      " [0.05681166 0.16927763 0.46461792 0.82382475 0.35611952 0.54691441\n",
      "  0.42459227 0.11988909 0.64402477 0.87025612]]\n"
     ]
    }
   ],
   "source": [
    "print(x[0:5])"
   ]
  },
  {
   "cell_type": "code",
   "execution_count": 191,
   "metadata": {
    "ExecuteTime": {
     "end_time": "2021-07-02T19:47:35.218370Z",
     "start_time": "2021-07-02T19:47:35.200381Z"
    }
   },
   "outputs": [],
   "source": [
    "np.savetxt('dados.txt', x, delimiter=',', fmt='%1.3f')"
   ]
  },
  {
   "cell_type": "markdown",
   "metadata": {},
   "source": [
    "Para efetuarmos a leitura"
   ]
  },
  {
   "cell_type": "code",
   "execution_count": 192,
   "metadata": {
    "ExecuteTime": {
     "end_time": "2021-07-02T19:47:59.316998Z",
     "start_time": "2021-07-02T19:47:59.310004Z"
    }
   },
   "outputs": [],
   "source": [
    "dt = np.loadtxt('dados.txt',delimiter=',')"
   ]
  },
  {
   "cell_type": "code",
   "execution_count": 193,
   "metadata": {
    "ExecuteTime": {
     "end_time": "2021-07-02T19:47:59.772771Z",
     "start_time": "2021-07-02T19:47:59.761778Z"
    }
   },
   "outputs": [
    {
     "name": "stdout",
     "output_type": "stream",
     "text": [
      "[[0.245 0.48  0.747 0.767 0.248 0.743 0.61  0.784 0.055 0.026]\n",
      " [0.075 0.859 0.964 0.941 0.431 0.726 0.732 0.782 0.929 0.21 ]\n",
      " [0.177 0.966 0.965 0.683 0.148 0.717 0.619 0.332 0.091 0.302]\n",
      " [0.929 0.165 0.919 0.562 0.628 0.59  0.82  0.769 0.683 0.539]\n",
      " [0.057 0.169 0.465 0.824 0.356 0.547 0.425 0.12  0.644 0.87 ]\n",
      " [0.46  0.421 0.046 0.495 0.085 0.178 0.028 0.416 0.733 0.108]\n",
      " [0.912 0.646 0.204 0.807 0.437 0.883 0.209 0.549 0.619 0.002]\n",
      " [0.066 0.572 0.487 0.583 0.332 0.144 0.762 0.655 0.248 0.029]\n",
      " [0.448 0.039 0.884 0.998 0.835 0.331 0.48  0.089 0.734 0.125]\n",
      " [0.66  0.92  0.107 0.803 0.512 0.883 0.19  0.14  0.786 0.329]]\n"
     ]
    }
   ],
   "source": [
    "print(dt)"
   ]
  },
  {
   "cell_type": "markdown",
   "metadata": {},
   "source": [
    "## Classes e objetos"
   ]
  },
  {
   "cell_type": "markdown",
   "metadata": {
    "ExecuteTime": {
     "end_time": "2021-07-02T20:04:03.719283Z",
     "start_time": "2021-07-02T20:04:03.703294Z"
    }
   },
   "source": [
    "https://realpython.com/python3-object-oriented-programming/\n",
    "\n",
    "Programação orientada a objetos é um paradigma de programação que permite criar estruturas que armazem dados e funções. Por exemplo, um objeto pode representar nome, idade, endereço, etc e operações podem ser andar, conversar, correr. Em um objeto email, propriedades pode ser conteúdo, destinatário, remetente e operações, enviar e incluir aquivos.\n",
    "Um objeto é uma instancia de uma classe. Ou seja, primeiramente definimos a estrutura classe e então declaramos o objeto. Os comportamentos de um objeto são definidos pela classe\n",
    "\n",
    "As instâncias de uma classe compartilham o mesmo conjunto de atributos, embora sejam diferentes quanto ao conteúdo desses atributos. Por exemplo, a classe \"Empregado\" descreve os atributos comuns a todas as instâncias da classe \"Empregado\". Os objetos dessa classe podem ser semelhantes, mas variam em atributos tais como \"nome\" e \"salário\". A descrição da classe contém os itens correspondentes a esses atributos e define as operações ou ações relevantes para a classe, tais como \"aumento de salário\" ou \"mudança do número de telefone\".\n",
    "\n",
    "Vamos considerar um exemplo."
   ]
  },
  {
   "cell_type": "code",
   "execution_count": 196,
   "metadata": {
    "ExecuteTime": {
     "end_time": "2021-07-02T20:05:46.854243Z",
     "start_time": "2021-07-02T20:05:46.836254Z"
    }
   },
   "outputs": [],
   "source": [
    "class Dog:\n",
    "\n",
    "    # Class Attribute\n",
    "    species = 'mammal'\n",
    "\n",
    "    # Initializer / Instance Attributes\n",
    "    def __init__(self, name, age):\n",
    "        self.name = name\n",
    "        self.age = age"
   ]
  },
  {
   "cell_type": "markdown",
   "metadata": {},
   "source": [
    "### Instantiate the Dog object"
   ]
  },
  {
   "cell_type": "code",
   "execution_count": 197,
   "metadata": {
    "ExecuteTime": {
     "end_time": "2021-07-02T20:05:55.857669Z",
     "start_time": "2021-07-02T20:05:55.852674Z"
    }
   },
   "outputs": [],
   "source": [
    "philo = Dog(\"Philo\", 5)\n",
    "mikey = Dog(\"Mikey\", 6)"
   ]
  },
  {
   "cell_type": "markdown",
   "metadata": {},
   "source": [
    "### Access the instance attributes"
   ]
  },
  {
   "cell_type": "code",
   "execution_count": 198,
   "metadata": {
    "ExecuteTime": {
     "end_time": "2021-07-02T20:06:06.554884Z",
     "start_time": "2021-07-02T20:06:06.544892Z"
    }
   },
   "outputs": [
    {
     "name": "stdout",
     "output_type": "stream",
     "text": [
      "Philo is 5 and Mikey is 6.\n"
     ]
    }
   ],
   "source": [
    "print(\"{} is {} and {} is {}.\".format(\n",
    "    philo.name, philo.age, mikey.name, mikey.age))"
   ]
  },
  {
   "cell_type": "markdown",
   "metadata": {},
   "source": [
    "### Is Philo a mammal?"
   ]
  },
  {
   "cell_type": "code",
   "execution_count": 199,
   "metadata": {
    "ExecuteTime": {
     "end_time": "2021-07-02T20:07:18.528645Z",
     "start_time": "2021-07-02T20:07:18.520650Z"
    }
   },
   "outputs": [
    {
     "name": "stdout",
     "output_type": "stream",
     "text": [
      "Philo is a mammal!\n"
     ]
    }
   ],
   "source": [
    "if philo.species == \"mammal\":\n",
    "    print(\"{0} is a {1}!\".format(philo.name, philo.species))"
   ]
  },
  {
   "cell_type": "markdown",
   "metadata": {},
   "source": [
    "## Exemplo 2"
   ]
  },
  {
   "cell_type": "code",
   "execution_count": 200,
   "metadata": {
    "ExecuteTime": {
     "end_time": "2021-07-02T20:07:53.141631Z",
     "start_time": "2021-07-02T20:07:53.127639Z"
    }
   },
   "outputs": [],
   "source": [
    "class Dog:\n",
    "\n",
    "    # Class Attribute\n",
    "    species = 'mammal'\n",
    "\n",
    "    # Initializer / Instance Attributes\n",
    "    def __init__(self, name, age):\n",
    "        self.name = name\n",
    "        self.age = age\n",
    "\n",
    "    # instance method\n",
    "    def description(self):\n",
    "        return \"{} is {} years old\".format(self.name, self.age)\n",
    "\n",
    "    # instance method\n",
    "    def speak(self, sound):\n",
    "        return \"{} says {}\".format(self.name, sound)"
   ]
  },
  {
   "cell_type": "markdown",
   "metadata": {},
   "source": [
    "### Instantiate the Dog object"
   ]
  },
  {
   "cell_type": "code",
   "execution_count": 203,
   "metadata": {
    "ExecuteTime": {
     "end_time": "2021-07-02T20:15:13.544359Z",
     "start_time": "2021-07-02T20:15:13.538361Z"
    }
   },
   "outputs": [
    {
     "name": "stdout",
     "output_type": "stream",
     "text": [
      "Mikey is 6 years old\n",
      "Mikey says Au Au\n"
     ]
    }
   ],
   "source": [
    "mikey = Dog(\"Mikey\", 6)\n",
    "\n",
    "# call our instance methods\n",
    "print(mikey.description())\n",
    "print(mikey.speak(\"Au Au\"))"
   ]
  },
  {
   "cell_type": "markdown",
   "metadata": {},
   "source": [
    "Usando programação orientada a objetos, podemos definir processos como herança e polimorfismo. Os leitores interessados pode consultar: https://realpython.com/python3-object-oriented-programming/\n",
    "https://www.tutorialspoint.com/python/python_classes_objects.htm"
   ]
  },
  {
   "cell_type": "markdown",
   "metadata": {},
   "source": [
    "# Exercícios"
   ]
  },
  {
   "cell_type": "markdown",
   "metadata": {},
   "source": [
    "## Verifique se um número é positivo, negativo ou zero."
   ]
  },
  {
   "cell_type": "markdown",
   "metadata": {
    "ExecuteTime": {
     "end_time": "2021-07-02T20:10:29.048546Z",
     "start_time": "2021-07-02T20:10:29.033558Z"
    }
   },
   "source": [
    "## Implemente uma função que calcule o fatorial de um número."
   ]
  },
  {
   "cell_type": "markdown",
   "metadata": {
    "ExecuteTime": {
     "end_time": "2021-07-02T20:10:29.048546Z",
     "start_time": "2021-07-02T20:10:29.033558Z"
    }
   },
   "source": [
    "## Calcule a sequencia de Fibonacci."
   ]
  },
  {
   "cell_type": "markdown",
   "metadata": {
    "ExecuteTime": {
     "end_time": "2021-07-02T20:10:29.048546Z",
     "start_time": "2021-07-02T20:10:29.033558Z"
    }
   },
   "source": [
    "## Calcule os números primos em um intervalo definido."
   ]
  },
  {
   "cell_type": "markdown",
   "metadata": {
    "ExecuteTime": {
     "end_time": "2021-07-02T20:10:29.048546Z",
     "start_time": "2021-07-02T20:10:29.033558Z"
    }
   },
   "source": [
    "## Implemente uma funçã que calcule a soma de uma sequência de números."
   ]
  },
  {
   "cell_type": "markdown",
   "metadata": {
    "ExecuteTime": {
     "end_time": "2021-07-02T20:10:29.048546Z",
     "start_time": "2021-07-02T20:10:29.033558Z"
    }
   },
   "source": [
    "## Gere dois vetores aleatórios de maneira independente e mostre os resultados em um scatterplot."
   ]
  },
  {
   "cell_type": "markdown",
   "metadata": {
    "ExecuteTime": {
     "end_time": "2021-07-02T20:10:29.048546Z",
     "start_time": "2021-07-02T20:10:29.033558Z"
    }
   },
   "source": [
    "## Gere dados com distribuição Gaussiana e mostre o respectivo histograma."
   ]
  },
  {
   "cell_type": "markdown",
   "metadata": {
    "ExecuteTime": {
     "end_time": "2021-07-02T20:10:29.048546Z",
     "start_time": "2021-07-02T20:10:29.033558Z"
    }
   },
   "source": [
    "## Gere uma tabela onde os valores das colunas seguem uma distribuição exponencial com diferentes taxas. Guarde os valores em um arquivo."
   ]
  },
  {
   "cell_type": "markdown",
   "metadata": {
    "ExecuteTime": {
     "end_time": "2021-07-02T20:10:29.048546Z",
     "start_time": "2021-07-02T20:10:29.033558Z"
    }
   },
   "source": [
    "## Leituras adicionais\n",
    "\n",
    "Para aprender mais sobre como acessar os índices de vetores e matrizes: http://www.pythoninformer.com/python-libraries/numpy/index-and-slice/"
   ]
  }
 ],
 "metadata": {
  "kernelspec": {
   "display_name": "Python 3",
   "language": "python",
   "name": "python3"
  },
  "language_info": {
   "codemirror_mode": {
    "name": "ipython",
    "version": 3
   },
   "file_extension": ".py",
   "mimetype": "text/x-python",
   "name": "python",
   "nbconvert_exporter": "python",
   "pygments_lexer": "ipython3",
   "version": "3.7.6"
  },
  "nbTranslate": {
   "displayLangs": [
    "*"
   ],
   "hotkey": "alt-t",
   "langInMainMenu": true,
   "sourceLang": "en",
   "targetLang": "fr",
   "useGoogleTranslate": true
  },
  "toc": {
   "base_numbering": 1,
   "nav_menu": {},
   "number_sections": true,
   "sideBar": true,
   "skip_h1_title": false,
   "title_cell": "Table of Contents",
   "title_sidebar": "Contents",
   "toc_cell": false,
   "toc_position": {},
   "toc_section_display": true,
   "toc_window_display": true
  }
 },
 "nbformat": 4,
 "nbformat_minor": 4
}
